{
  "nbformat": 4,
  "nbformat_minor": 0,
  "metadata": {
    "colab": {
      "provenance": [],
      "authorship_tag": "ABX9TyP0fJCIVYVmY0kjzXIFW3Ai",
      "include_colab_link": true
    },
    "kernelspec": {
      "name": "python3",
      "display_name": "Python 3"
    },
    "language_info": {
      "name": "python"
    }
  },
  "cells": [
    {
      "cell_type": "markdown",
      "metadata": {
        "id": "view-in-github",
        "colab_type": "text"
      },
      "source": [
        "<a href=\"https://colab.research.google.com/github/PhanDuyNhat/NHUNG_St/blob/RAS/max7219.ipynb\" target=\"_parent\"><img src=\"https://colab.research.google.com/assets/colab-badge.svg\" alt=\"Open In Colab\"/></a>"
      ]
    },
    {
      "cell_type": "code",
      "execution_count": null,
      "metadata": {
        "id": "hKbFbNy9RUrT"
      },
      "outputs": [],
      "source": [
        "#include <wiringPi.h>\n",
        "#include <wiringPiSPI.h>\n",
        "#include <stdio.h>\n",
        "#include <stdint.h>\n",
        "\n",
        "#define spi0 0 \n",
        "unsigned char data [2];\n",
        "uint8_t mssv [8]={2,0,1,4,6,1,6,5};\n",
        "\n",
        "\n",
        "void send_data(unsigned char address,unsigned char value )\n",
        "{\n",
        "    data[0]= address;\n",
        "    data[1]=value;\n",
        "    wiringPiSPIDataRW(spi0,data,2);\n",
        "}\n",
        "\n",
        "void init7219(void)\n",
        "{\n",
        "\n",
        "// send decocde mode:0x09FF\n",
        "    send_data(0x09,0xff);\n",
        "//send intensity : 0x090a\n",
        "send_data(0x0A,0x09);\n",
        "//set scanlimit\n",
        "send_data (0x0B,0x07);\n",
        "\n",
        "//no shutdown , turn off display test \n",
        "send_data (0x0C, 1);\n",
        "send_data(0x0f,0);\n",
        "\n",
        "\n",
        "}\n",
        "\n",
        "void  send_mssv (void)\n",
        "{\n",
        " for(int i=0; i<8; i++)\n",
        "  {\n",
        "    send_data(8-i,mssv[i]);\n",
        "  }\n",
        "\n",
        "}\n",
        "\n",
        "\n",
        "void main (void)\n",
        "{\n",
        "    wiringPiSPISetup(spi0,500000);\n",
        "    init7219();\n",
        "    send_mssv();\n",
        "\n",
        "\n",
        "}"
      ]
    }
  ]
}